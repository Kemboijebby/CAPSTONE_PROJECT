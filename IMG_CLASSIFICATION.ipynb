{
 "cells": [
  {
   "cell_type": "code",
   "execution_count": 10,
   "metadata": {},
   "outputs": [],
   "source": [
    "import numpy as np\n",
    "import pandas as pd\n",
    "import os \n",
    "from sklearn.metrics import classification_report\n",
    "import seaborn as sn; sn.set(font_scale=1.4)\n",
    "from sklearn.utils import shuffle\n",
    "import matplotlib.pyplot as plt\n",
    "import cv2\n",
    "import tensorflow as tf\n",
    "from tqdm import tqdm\n"
   ]
  },
  {
   "cell_type": "code",
   "execution_count": 11,
   "metadata": {},
   "outputs": [
    {
     "name": "stdout",
     "output_type": "stream",
     "text": [
      "{'Sheep': 0, 'Goat': 1}\n"
     ]
    }
   ],
   "source": [
    "class_names=['Sheep','Goat']\n",
    "class_names_label={class_name:i for i, class_name in enumerate(class_names)}\n",
    "\n",
    "nb_classes = len(class_names)\n",
    "\n",
    "print(class_names_label)\n",
    "\n",
    "IMAGE_SIZE=(150,150)"
   ]
  },
  {
   "cell_type": "code",
   "execution_count": 22,
   "metadata": {},
   "outputs": [],
   "source": [
    "def load_data():\n",
    "    DIRECTORY=r\"C:\\Users\\Anitah\\Desktop\\FINAL_PROJECT\"\n",
    "    CATEGORY=['seg_train','seg_test']\n",
    "\n",
    "    ouput=[]\n",
    "    for category in CATEGORY:\n",
    "        path=os.path.join(DIRECTORY,category)\n",
    "        print(path)\n",
    "        images=[]\n",
    "        labels=[]\n",
    "\n",
    "        print('Loading{}'.format(category))\n",
    "\n",
    "        for folder in os.listdir(path):\n",
    "            label=class_names_label[folder]\n",
    "\n",
    "            #iterate though each image in the folder\n",
    "            for file in os.listdir(os.path.join(path,folder)):\n",
    "\n",
    "                #Get the path of each image\n",
    "                img_path=os.path.join(os.path.join(path,folder),file)\n",
    "\n",
    "                #open and resize the img\n",
    "                image=cv2.imread(r\"C:\\Users\\Anitah\\Desktop\\FINAL_PROJECT\\seg_train\")\n",
    "                image=cv2.cvtColor(image,cv2.COLOR_BGR2RGB)\n",
    "                image=cv2.resize(image,IMAGE_SIZE)\n",
    "\n",
    "                #Append the image and its corresponding label to the output\n",
    "                images.append(image)\n",
    "                labels.append(label)\n",
    "        images=np.array(images,dtype='float32')\n",
    "        labels=np.array(labels,dtype='int32')\n",
    "\n",
    "        ouput.append((images,labels))\n",
    "    return ouput\n",
    "\n"
   ]
  },
  {
   "cell_type": "code",
   "execution_count": 23,
   "metadata": {},
   "outputs": [
    {
     "name": "stdout",
     "output_type": "stream",
     "text": [
      "C:\\Users\\Anitah\\Desktop\\FINAL_PROJECT\\seg_train\n",
      "Loadingseg_train\n"
     ]
    },
    {
     "ename": "error",
     "evalue": "OpenCV(4.7.0) D:\\a\\opencv-python\\opencv-python\\opencv\\modules\\imgproc\\src\\color.cpp:182: error: (-215:Assertion failed) !_src.empty() in function 'cv::cvtColor'\n",
     "output_type": "error",
     "traceback": [
      "\u001b[1;31m---------------------------------------------------------------------------\u001b[0m",
      "\u001b[1;31merror\u001b[0m                                     Traceback (most recent call last)",
      "Cell \u001b[1;32mIn [23], line 1\u001b[0m\n\u001b[1;32m----> 1\u001b[0m (train_images,train_labels),(test_images,test_labels)\u001b[39m=\u001b[39mload_data()\n",
      "Cell \u001b[1;32mIn [22], line 25\u001b[0m, in \u001b[0;36mload_data\u001b[1;34m()\u001b[0m\n\u001b[0;32m     23\u001b[0m \u001b[39m#open and resize the img\u001b[39;00m\n\u001b[0;32m     24\u001b[0m image\u001b[39m=\u001b[39mcv2\u001b[39m.\u001b[39mimread(\u001b[39mr\u001b[39m\u001b[39m\"\u001b[39m\u001b[39mC:\u001b[39m\u001b[39m\\\u001b[39m\u001b[39mUsers\u001b[39m\u001b[39m\\\u001b[39m\u001b[39mAnitah\u001b[39m\u001b[39m\\\u001b[39m\u001b[39mDesktop\u001b[39m\u001b[39m\\\u001b[39m\u001b[39mFINAL_PROJECT\u001b[39m\u001b[39m\\\u001b[39m\u001b[39mseg_train\u001b[39m\u001b[39m\"\u001b[39m)\n\u001b[1;32m---> 25\u001b[0m image\u001b[39m=\u001b[39mcv2\u001b[39m.\u001b[39;49mcvtColor(image,cv2\u001b[39m.\u001b[39;49mCOLOR_BGR2RGB)\n\u001b[0;32m     26\u001b[0m image\u001b[39m=\u001b[39mcv2\u001b[39m.\u001b[39mresize(image,IMAGE_SIZE)\n\u001b[0;32m     28\u001b[0m \u001b[39m#Append the image and its corresponding label to the output\u001b[39;00m\n",
      "\u001b[1;31merror\u001b[0m: OpenCV(4.7.0) D:\\a\\opencv-python\\opencv-python\\opencv\\modules\\imgproc\\src\\color.cpp:182: error: (-215:Assertion failed) !_src.empty() in function 'cv::cvtColor'\n"
     ]
    }
   ],
   "source": [
    "(train_images,train_labels),(test_images,test_labels)=load_data()"
   ]
  }
 ],
 "metadata": {
  "kernelspec": {
   "display_name": "Python 3.10.0 64-bit",
   "language": "python",
   "name": "python3"
  },
  "language_info": {
   "codemirror_mode": {
    "name": "ipython",
    "version": 3
   },
   "file_extension": ".py",
   "mimetype": "text/x-python",
   "name": "python",
   "nbconvert_exporter": "python",
   "pygments_lexer": "ipython3",
   "version": "3.10.0"
  },
  "orig_nbformat": 4,
  "vscode": {
   "interpreter": {
    "hash": "26de051ba29f2982a8de78e945f0abaf191376122a1563185a90213a26c5da77"
   }
  }
 },
 "nbformat": 4,
 "nbformat_minor": 2
}
